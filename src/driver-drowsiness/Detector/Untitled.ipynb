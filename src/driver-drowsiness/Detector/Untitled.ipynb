{
 "cells": [
  {
   "cell_type": "code",
   "execution_count": null,
   "metadata": {},
   "outputs": [],
   "source": []
  },
  {
   "cell_type": "code",
   "execution_count": 1,
   "metadata": {},
   "outputs": [],
   "source": [
    "import numpy as np \n",
    "import pandas as pd \n",
    "\n",
    "from sklearn.neighbors import KNeighborsClassifier\n",
    "from sklearn.model_selection import RandomizedSearchCV,GridSearchCV,train_test_split\n",
    "from sklearn.model_selection import cross_validate\n",
    "from sklearn.preprocessing import MinMaxScaler\n"
   ]
  },
  {
   "cell_type": "code",
   "execution_count": 3,
   "metadata": {},
   "outputs": [],
   "source": [
    "from sklearn.svm import SVC"
   ]
  },
  {
   "cell_type": "code",
   "execution_count": 2,
   "metadata": {},
   "outputs": [],
   "source": [
    "from sklearn.ensemble import RandomForestClassifier"
   ]
  },
  {
   "cell_type": "code",
   "execution_count": 3,
   "metadata": {},
   "outputs": [],
   "source": [
    "from sklearn.tree  import DecisionTreeClassifier"
   ]
  },
  {
   "cell_type": "code",
   "execution_count": 3,
   "metadata": {},
   "outputs": [],
   "source": [
    "def kNeighbors(X,Y):\n",
    "    model=KNeighborsClassifier()\n",
    "    paramz ={'n_neighbors':[10,20]}\n",
    "    random_search=RandomizedSearchCV(estimator=model,param_distributions=paramz ,scoring=('accuracy')\n",
    "                                ,cv=3,return_train_score=True,iid=False)\n",
    "    RS_result = cross_validate(random_search, X, Y, cv=50, scoring=('accuracy','f1_macro'), return_train_score=True)\n",
    "    print(RS_result)\n",
    "    "
   ]
  },
  {
   "cell_type": "code",
   "execution_count": null,
   "metadata": {},
   "outputs": [],
   "source": []
  },
  {
   "cell_type": "code",
   "execution_count": 9,
   "metadata": {},
   "outputs": [],
   "source": [
    "data_base=pd.read_csv(\"merged_data.csv\",header=None)"
   ]
  },
  {
   "cell_type": "code",
   "execution_count": 10,
   "metadata": {},
   "outputs": [
    {
     "data": {
      "text/html": [
       "<div>\n",
       "<style scoped>\n",
       "    .dataframe tbody tr th:only-of-type {\n",
       "        vertical-align: middle;\n",
       "    }\n",
       "\n",
       "    .dataframe tbody tr th {\n",
       "        vertical-align: top;\n",
       "    }\n",
       "\n",
       "    .dataframe thead th {\n",
       "        text-align: right;\n",
       "    }\n",
       "</style>\n",
       "<table border=\"1\" class=\"dataframe\">\n",
       "  <thead>\n",
       "    <tr style=\"text-align: right;\">\n",
       "      <th></th>\n",
       "      <th>0</th>\n",
       "      <th>1</th>\n",
       "      <th>2</th>\n",
       "      <th>3</th>\n",
       "      <th>4</th>\n",
       "      <th>5</th>\n",
       "      <th>6</th>\n",
       "      <th>7</th>\n",
       "      <th>8</th>\n",
       "      <th>9</th>\n",
       "      <th>10</th>\n",
       "      <th>11</th>\n",
       "      <th>12</th>\n",
       "    </tr>\n",
       "  </thead>\n",
       "  <tbody>\n",
       "    <tr>\n",
       "      <th>0</th>\n",
       "      <td>0.317947</td>\n",
       "      <td>0.215283</td>\n",
       "      <td>0.058388</td>\n",
       "      <td>0.0</td>\n",
       "      <td>0.500000</td>\n",
       "      <td>0.0</td>\n",
       "      <td>0.0</td>\n",
       "      <td>0.0</td>\n",
       "      <td>0.0</td>\n",
       "      <td>1.0</td>\n",
       "      <td>0.0</td>\n",
       "      <td>0.0</td>\n",
       "      <td>0.0</td>\n",
       "    </tr>\n",
       "    <tr>\n",
       "      <th>1</th>\n",
       "      <td>0.318204</td>\n",
       "      <td>0.216998</td>\n",
       "      <td>0.058163</td>\n",
       "      <td>0.0</td>\n",
       "      <td>0.800000</td>\n",
       "      <td>0.0</td>\n",
       "      <td>0.0</td>\n",
       "      <td>0.0</td>\n",
       "      <td>0.0</td>\n",
       "      <td>1.0</td>\n",
       "      <td>0.0</td>\n",
       "      <td>0.0</td>\n",
       "      <td>0.0</td>\n",
       "    </tr>\n",
       "    <tr>\n",
       "      <th>2</th>\n",
       "      <td>0.317240</td>\n",
       "      <td>0.218693</td>\n",
       "      <td>0.057952</td>\n",
       "      <td>0.0</td>\n",
       "      <td>1.166667</td>\n",
       "      <td>0.0</td>\n",
       "      <td>0.0</td>\n",
       "      <td>0.0</td>\n",
       "      <td>0.0</td>\n",
       "      <td>1.0</td>\n",
       "      <td>0.0</td>\n",
       "      <td>0.0</td>\n",
       "      <td>0.0</td>\n",
       "    </tr>\n",
       "    <tr>\n",
       "      <th>3</th>\n",
       "      <td>0.318663</td>\n",
       "      <td>0.217299</td>\n",
       "      <td>0.058760</td>\n",
       "      <td>0.0</td>\n",
       "      <td>1.714286</td>\n",
       "      <td>0.0</td>\n",
       "      <td>0.0</td>\n",
       "      <td>0.0</td>\n",
       "      <td>0.0</td>\n",
       "      <td>1.0</td>\n",
       "      <td>0.0</td>\n",
       "      <td>0.0</td>\n",
       "      <td>0.0</td>\n",
       "    </tr>\n",
       "    <tr>\n",
       "      <th>4</th>\n",
       "      <td>0.315558</td>\n",
       "      <td>0.222330</td>\n",
       "      <td>0.057699</td>\n",
       "      <td>0.0</td>\n",
       "      <td>2.625000</td>\n",
       "      <td>0.0</td>\n",
       "      <td>0.0</td>\n",
       "      <td>0.0</td>\n",
       "      <td>0.0</td>\n",
       "      <td>1.0</td>\n",
       "      <td>0.0</td>\n",
       "      <td>0.0</td>\n",
       "      <td>0.0</td>\n",
       "    </tr>\n",
       "  </tbody>\n",
       "</table>\n",
       "</div>"
      ],
      "text/plain": [
       "         0         1         2    3         4    5    6    7    8    9    10  \\\n",
       "0  0.317947  0.215283  0.058388  0.0  0.500000  0.0  0.0  0.0  0.0  1.0  0.0   \n",
       "1  0.318204  0.216998  0.058163  0.0  0.800000  0.0  0.0  0.0  0.0  1.0  0.0   \n",
       "2  0.317240  0.218693  0.057952  0.0  1.166667  0.0  0.0  0.0  0.0  1.0  0.0   \n",
       "3  0.318663  0.217299  0.058760  0.0  1.714286  0.0  0.0  0.0  0.0  1.0  0.0   \n",
       "4  0.315558  0.222330  0.057699  0.0  2.625000  0.0  0.0  0.0  0.0  1.0  0.0   \n",
       "\n",
       "    11   12  \n",
       "0  0.0  0.0  \n",
       "1  0.0  0.0  \n",
       "2  0.0  0.0  \n",
       "3  0.0  0.0  \n",
       "4  0.0  0.0  "
      ]
     },
     "execution_count": 10,
     "metadata": {},
     "output_type": "execute_result"
    }
   ],
   "source": [
    "#data_base.drop(data_base.columns[13],axis=1,inplace=True)\n",
    "data_base.head()"
   ]
  },
  {
   "cell_type": "code",
   "execution_count": 8,
   "metadata": {},
   "outputs": [
    {
     "name": "stdout",
     "output_type": "stream",
     "text": [
      "<class 'pandas.core.frame.DataFrame'>\n",
      "RangeIndex: 158265 entries, 0 to 158264\n",
      "Data columns (total 13 columns):\n",
      "0     158265 non-null float64\n",
      "1     158265 non-null float64\n",
      "2     158265 non-null float64\n",
      "3     158265 non-null int64\n",
      "4     158265 non-null float64\n",
      "5     158265 non-null int64\n",
      "6     158265 non-null int64\n",
      "7     158265 non-null int64\n",
      "8     158265 non-null int64\n",
      "9     158265 non-null float64\n",
      "10    158265 non-null float64\n",
      "11    158265 non-null int64\n",
      "12    158265 non-null int64\n",
      "dtypes: float64(6), int64(7)\n",
      "memory usage: 15.7 MB\n"
     ]
    }
   ],
   "source": []
  },
  {
   "cell_type": "code",
   "execution_count": 11,
   "metadata": {},
   "outputs": [
    {
     "name": "stdout",
     "output_type": "stream",
     "text": [
      "(734905, 13)\n",
      "[[0.29531927 0.23335599 0.49420792 ... 0.06824396 0.03754586 0.        ]\n",
      " [0.61939825 0.40557941 0.40846529 ... 1.         0.         0.        ]\n",
      " [0.85026166 0.04520788 0.53767769 ... 0.0113841  0.00134529 0.        ]\n",
      " ...\n",
      " [0.99118269 0.03914436 0.66967964 ... 0.12175098 0.00986547 0.        ]\n",
      " [0.46205895 0.02954853 0.61863492 ... 0.00346785 0.83281696 0.        ]\n",
      " [0.49364678 0.0574206  0.41806393 ... 0.06754837 0.01524664 0.        ]]\n",
      "[ 5.  5. 10. ...  0.  5.  0.]\n",
      "(734905,)\n"
     ]
    }
   ],
   "source": [
    "data_values=data_base.values\n",
    "print(data_values.shape)\n",
    "np.random.shuffle(data_values)\n",
    "x=data_values[:,:-1]\n",
    "y=data_values[:,-1]\n",
    "scaler=MinMaxScaler()\n",
    "scaler.fit(x)\n",
    "x=scaler.transform(x)\n",
    "print(x)\n",
    "print(y)\n",
    "print(y.shape)"
   ]
  },
  {
   "cell_type": "code",
   "execution_count": 7,
   "metadata": {},
   "outputs": [
    {
     "name": "stderr",
     "output_type": "stream",
     "text": [
      "C:\\Anaconda3\\lib\\site-packages\\sklearn\\model_selection\\_search.py:271: UserWarning: The total space of parameters 2 is smaller than n_iter=10. Running 2 iterations. For exhaustive searches, use GridSearchCV.\n",
      "  % (grid_size, self.n_iter, grid_size), UserWarning)\n",
      "C:\\Anaconda3\\lib\\site-packages\\sklearn\\model_selection\\_search.py:271: UserWarning: The total space of parameters 2 is smaller than n_iter=10. Running 2 iterations. For exhaustive searches, use GridSearchCV.\n",
      "  % (grid_size, self.n_iter, grid_size), UserWarning)\n",
      "C:\\Anaconda3\\lib\\site-packages\\sklearn\\model_selection\\_search.py:271: UserWarning: The total space of parameters 2 is smaller than n_iter=10. Running 2 iterations. For exhaustive searches, use GridSearchCV.\n",
      "  % (grid_size, self.n_iter, grid_size), UserWarning)\n",
      "C:\\Anaconda3\\lib\\site-packages\\sklearn\\model_selection\\_search.py:271: UserWarning: The total space of parameters 2 is smaller than n_iter=10. Running 2 iterations. For exhaustive searches, use GridSearchCV.\n",
      "  % (grid_size, self.n_iter, grid_size), UserWarning)\n",
      "C:\\Anaconda3\\lib\\site-packages\\sklearn\\model_selection\\_search.py:271: UserWarning: The total space of parameters 2 is smaller than n_iter=10. Running 2 iterations. For exhaustive searches, use GridSearchCV.\n",
      "  % (grid_size, self.n_iter, grid_size), UserWarning)\n",
      "C:\\Anaconda3\\lib\\site-packages\\sklearn\\model_selection\\_search.py:271: UserWarning: The total space of parameters 2 is smaller than n_iter=10. Running 2 iterations. For exhaustive searches, use GridSearchCV.\n",
      "  % (grid_size, self.n_iter, grid_size), UserWarning)\n",
      "C:\\Anaconda3\\lib\\site-packages\\sklearn\\model_selection\\_search.py:271: UserWarning: The total space of parameters 2 is smaller than n_iter=10. Running 2 iterations. For exhaustive searches, use GridSearchCV.\n",
      "  % (grid_size, self.n_iter, grid_size), UserWarning)\n",
      "C:\\Anaconda3\\lib\\site-packages\\sklearn\\model_selection\\_search.py:271: UserWarning: The total space of parameters 2 is smaller than n_iter=10. Running 2 iterations. For exhaustive searches, use GridSearchCV.\n",
      "  % (grid_size, self.n_iter, grid_size), UserWarning)\n",
      "C:\\Anaconda3\\lib\\site-packages\\sklearn\\model_selection\\_search.py:271: UserWarning: The total space of parameters 2 is smaller than n_iter=10. Running 2 iterations. For exhaustive searches, use GridSearchCV.\n",
      "  % (grid_size, self.n_iter, grid_size), UserWarning)\n",
      "C:\\Anaconda3\\lib\\site-packages\\sklearn\\model_selection\\_search.py:271: UserWarning: The total space of parameters 2 is smaller than n_iter=10. Running 2 iterations. For exhaustive searches, use GridSearchCV.\n",
      "  % (grid_size, self.n_iter, grid_size), UserWarning)\n",
      "C:\\Anaconda3\\lib\\site-packages\\sklearn\\model_selection\\_search.py:271: UserWarning: The total space of parameters 2 is smaller than n_iter=10. Running 2 iterations. For exhaustive searches, use GridSearchCV.\n",
      "  % (grid_size, self.n_iter, grid_size), UserWarning)\n",
      "C:\\Anaconda3\\lib\\site-packages\\sklearn\\model_selection\\_search.py:271: UserWarning: The total space of parameters 2 is smaller than n_iter=10. Running 2 iterations. For exhaustive searches, use GridSearchCV.\n",
      "  % (grid_size, self.n_iter, grid_size), UserWarning)\n",
      "C:\\Anaconda3\\lib\\site-packages\\sklearn\\model_selection\\_search.py:271: UserWarning: The total space of parameters 2 is smaller than n_iter=10. Running 2 iterations. For exhaustive searches, use GridSearchCV.\n",
      "  % (grid_size, self.n_iter, grid_size), UserWarning)\n",
      "C:\\Anaconda3\\lib\\site-packages\\sklearn\\model_selection\\_search.py:271: UserWarning: The total space of parameters 2 is smaller than n_iter=10. Running 2 iterations. For exhaustive searches, use GridSearchCV.\n",
      "  % (grid_size, self.n_iter, grid_size), UserWarning)\n",
      "C:\\Anaconda3\\lib\\site-packages\\sklearn\\model_selection\\_search.py:271: UserWarning: The total space of parameters 2 is smaller than n_iter=10. Running 2 iterations. For exhaustive searches, use GridSearchCV.\n",
      "  % (grid_size, self.n_iter, grid_size), UserWarning)\n",
      "C:\\Anaconda3\\lib\\site-packages\\sklearn\\model_selection\\_search.py:271: UserWarning: The total space of parameters 2 is smaller than n_iter=10. Running 2 iterations. For exhaustive searches, use GridSearchCV.\n",
      "  % (grid_size, self.n_iter, grid_size), UserWarning)\n",
      "C:\\Anaconda3\\lib\\site-packages\\sklearn\\model_selection\\_search.py:271: UserWarning: The total space of parameters 2 is smaller than n_iter=10. Running 2 iterations. For exhaustive searches, use GridSearchCV.\n",
      "  % (grid_size, self.n_iter, grid_size), UserWarning)\n",
      "C:\\Anaconda3\\lib\\site-packages\\sklearn\\model_selection\\_search.py:271: UserWarning: The total space of parameters 2 is smaller than n_iter=10. Running 2 iterations. For exhaustive searches, use GridSearchCV.\n",
      "  % (grid_size, self.n_iter, grid_size), UserWarning)\n",
      "C:\\Anaconda3\\lib\\site-packages\\sklearn\\model_selection\\_search.py:271: UserWarning: The total space of parameters 2 is smaller than n_iter=10. Running 2 iterations. For exhaustive searches, use GridSearchCV.\n",
      "  % (grid_size, self.n_iter, grid_size), UserWarning)\n",
      "C:\\Anaconda3\\lib\\site-packages\\sklearn\\model_selection\\_search.py:271: UserWarning: The total space of parameters 2 is smaller than n_iter=10. Running 2 iterations. For exhaustive searches, use GridSearchCV.\n",
      "  % (grid_size, self.n_iter, grid_size), UserWarning)\n",
      "C:\\Anaconda3\\lib\\site-packages\\sklearn\\model_selection\\_search.py:271: UserWarning: The total space of parameters 2 is smaller than n_iter=10. Running 2 iterations. For exhaustive searches, use GridSearchCV.\n",
      "  % (grid_size, self.n_iter, grid_size), UserWarning)\n",
      "C:\\Anaconda3\\lib\\site-packages\\sklearn\\model_selection\\_search.py:271: UserWarning: The total space of parameters 2 is smaller than n_iter=10. Running 2 iterations. For exhaustive searches, use GridSearchCV.\n",
      "  % (grid_size, self.n_iter, grid_size), UserWarning)\n",
      "C:\\Anaconda3\\lib\\site-packages\\sklearn\\model_selection\\_search.py:271: UserWarning: The total space of parameters 2 is smaller than n_iter=10. Running 2 iterations. For exhaustive searches, use GridSearchCV.\n",
      "  % (grid_size, self.n_iter, grid_size), UserWarning)\n",
      "C:\\Anaconda3\\lib\\site-packages\\sklearn\\model_selection\\_search.py:271: UserWarning: The total space of parameters 2 is smaller than n_iter=10. Running 2 iterations. For exhaustive searches, use GridSearchCV.\n",
      "  % (grid_size, self.n_iter, grid_size), UserWarning)\n",
      "C:\\Anaconda3\\lib\\site-packages\\sklearn\\model_selection\\_search.py:271: UserWarning: The total space of parameters 2 is smaller than n_iter=10. Running 2 iterations. For exhaustive searches, use GridSearchCV.\n",
      "  % (grid_size, self.n_iter, grid_size), UserWarning)\n",
      "C:\\Anaconda3\\lib\\site-packages\\sklearn\\model_selection\\_search.py:271: UserWarning: The total space of parameters 2 is smaller than n_iter=10. Running 2 iterations. For exhaustive searches, use GridSearchCV.\n",
      "  % (grid_size, self.n_iter, grid_size), UserWarning)\n",
      "C:\\Anaconda3\\lib\\site-packages\\sklearn\\model_selection\\_search.py:271: UserWarning: The total space of parameters 2 is smaller than n_iter=10. Running 2 iterations. For exhaustive searches, use GridSearchCV.\n",
      "  % (grid_size, self.n_iter, grid_size), UserWarning)\n",
      "C:\\Anaconda3\\lib\\site-packages\\sklearn\\model_selection\\_search.py:271: UserWarning: The total space of parameters 2 is smaller than n_iter=10. Running 2 iterations. For exhaustive searches, use GridSearchCV.\n",
      "  % (grid_size, self.n_iter, grid_size), UserWarning)\n",
      "C:\\Anaconda3\\lib\\site-packages\\sklearn\\model_selection\\_search.py:271: UserWarning: The total space of parameters 2 is smaller than n_iter=10. Running 2 iterations. For exhaustive searches, use GridSearchCV.\n",
      "  % (grid_size, self.n_iter, grid_size), UserWarning)\n",
      "C:\\Anaconda3\\lib\\site-packages\\sklearn\\model_selection\\_search.py:271: UserWarning: The total space of parameters 2 is smaller than n_iter=10. Running 2 iterations. For exhaustive searches, use GridSearchCV.\n",
      "  % (grid_size, self.n_iter, grid_size), UserWarning)\n",
      "C:\\Anaconda3\\lib\\site-packages\\sklearn\\model_selection\\_search.py:271: UserWarning: The total space of parameters 2 is smaller than n_iter=10. Running 2 iterations. For exhaustive searches, use GridSearchCV.\n",
      "  % (grid_size, self.n_iter, grid_size), UserWarning)\n",
      "C:\\Anaconda3\\lib\\site-packages\\sklearn\\model_selection\\_search.py:271: UserWarning: The total space of parameters 2 is smaller than n_iter=10. Running 2 iterations. For exhaustive searches, use GridSearchCV.\n",
      "  % (grid_size, self.n_iter, grid_size), UserWarning)\n"
     ]
    },
    {
     "name": "stderr",
     "output_type": "stream",
     "text": [
      "C:\\Anaconda3\\lib\\site-packages\\sklearn\\model_selection\\_search.py:271: UserWarning: The total space of parameters 2 is smaller than n_iter=10. Running 2 iterations. For exhaustive searches, use GridSearchCV.\n",
      "  % (grid_size, self.n_iter, grid_size), UserWarning)\n",
      "C:\\Anaconda3\\lib\\site-packages\\sklearn\\model_selection\\_search.py:271: UserWarning: The total space of parameters 2 is smaller than n_iter=10. Running 2 iterations. For exhaustive searches, use GridSearchCV.\n",
      "  % (grid_size, self.n_iter, grid_size), UserWarning)\n",
      "C:\\Anaconda3\\lib\\site-packages\\sklearn\\model_selection\\_search.py:271: UserWarning: The total space of parameters 2 is smaller than n_iter=10. Running 2 iterations. For exhaustive searches, use GridSearchCV.\n",
      "  % (grid_size, self.n_iter, grid_size), UserWarning)\n",
      "C:\\Anaconda3\\lib\\site-packages\\sklearn\\model_selection\\_search.py:271: UserWarning: The total space of parameters 2 is smaller than n_iter=10. Running 2 iterations. For exhaustive searches, use GridSearchCV.\n",
      "  % (grid_size, self.n_iter, grid_size), UserWarning)\n",
      "C:\\Anaconda3\\lib\\site-packages\\sklearn\\model_selection\\_search.py:271: UserWarning: The total space of parameters 2 is smaller than n_iter=10. Running 2 iterations. For exhaustive searches, use GridSearchCV.\n",
      "  % (grid_size, self.n_iter, grid_size), UserWarning)\n",
      "C:\\Anaconda3\\lib\\site-packages\\sklearn\\model_selection\\_search.py:271: UserWarning: The total space of parameters 2 is smaller than n_iter=10. Running 2 iterations. For exhaustive searches, use GridSearchCV.\n",
      "  % (grid_size, self.n_iter, grid_size), UserWarning)\n",
      "C:\\Anaconda3\\lib\\site-packages\\sklearn\\model_selection\\_search.py:271: UserWarning: The total space of parameters 2 is smaller than n_iter=10. Running 2 iterations. For exhaustive searches, use GridSearchCV.\n",
      "  % (grid_size, self.n_iter, grid_size), UserWarning)\n",
      "C:\\Anaconda3\\lib\\site-packages\\sklearn\\model_selection\\_search.py:271: UserWarning: The total space of parameters 2 is smaller than n_iter=10. Running 2 iterations. For exhaustive searches, use GridSearchCV.\n",
      "  % (grid_size, self.n_iter, grid_size), UserWarning)\n",
      "C:\\Anaconda3\\lib\\site-packages\\sklearn\\model_selection\\_search.py:271: UserWarning: The total space of parameters 2 is smaller than n_iter=10. Running 2 iterations. For exhaustive searches, use GridSearchCV.\n",
      "  % (grid_size, self.n_iter, grid_size), UserWarning)\n",
      "C:\\Anaconda3\\lib\\site-packages\\sklearn\\model_selection\\_search.py:271: UserWarning: The total space of parameters 2 is smaller than n_iter=10. Running 2 iterations. For exhaustive searches, use GridSearchCV.\n",
      "  % (grid_size, self.n_iter, grid_size), UserWarning)\n",
      "C:\\Anaconda3\\lib\\site-packages\\sklearn\\model_selection\\_search.py:271: UserWarning: The total space of parameters 2 is smaller than n_iter=10. Running 2 iterations. For exhaustive searches, use GridSearchCV.\n",
      "  % (grid_size, self.n_iter, grid_size), UserWarning)\n",
      "C:\\Anaconda3\\lib\\site-packages\\sklearn\\model_selection\\_search.py:271: UserWarning: The total space of parameters 2 is smaller than n_iter=10. Running 2 iterations. For exhaustive searches, use GridSearchCV.\n",
      "  % (grid_size, self.n_iter, grid_size), UserWarning)\n",
      "C:\\Anaconda3\\lib\\site-packages\\sklearn\\model_selection\\_search.py:271: UserWarning: The total space of parameters 2 is smaller than n_iter=10. Running 2 iterations. For exhaustive searches, use GridSearchCV.\n",
      "  % (grid_size, self.n_iter, grid_size), UserWarning)\n",
      "C:\\Anaconda3\\lib\\site-packages\\sklearn\\model_selection\\_search.py:271: UserWarning: The total space of parameters 2 is smaller than n_iter=10. Running 2 iterations. For exhaustive searches, use GridSearchCV.\n",
      "  % (grid_size, self.n_iter, grid_size), UserWarning)\n",
      "C:\\Anaconda3\\lib\\site-packages\\sklearn\\model_selection\\_search.py:271: UserWarning: The total space of parameters 2 is smaller than n_iter=10. Running 2 iterations. For exhaustive searches, use GridSearchCV.\n",
      "  % (grid_size, self.n_iter, grid_size), UserWarning)\n",
      "C:\\Anaconda3\\lib\\site-packages\\sklearn\\model_selection\\_search.py:271: UserWarning: The total space of parameters 2 is smaller than n_iter=10. Running 2 iterations. For exhaustive searches, use GridSearchCV.\n",
      "  % (grid_size, self.n_iter, grid_size), UserWarning)\n",
      "C:\\Anaconda3\\lib\\site-packages\\sklearn\\model_selection\\_search.py:271: UserWarning: The total space of parameters 2 is smaller than n_iter=10. Running 2 iterations. For exhaustive searches, use GridSearchCV.\n",
      "  % (grid_size, self.n_iter, grid_size), UserWarning)\n",
      "C:\\Anaconda3\\lib\\site-packages\\sklearn\\model_selection\\_search.py:271: UserWarning: The total space of parameters 2 is smaller than n_iter=10. Running 2 iterations. For exhaustive searches, use GridSearchCV.\n",
      "  % (grid_size, self.n_iter, grid_size), UserWarning)\n"
     ]
    },
    {
     "name": "stdout",
     "output_type": "stream",
     "text": [
      "{'fit_time': array([36.56927633, 38.60643053, 36.64397931, 40.62338686, 41.59977365,\n",
      "       40.88368869, 42.2799561 , 42.87835836, 41.68857217, 44.02129793,\n",
      "       40.9696064 , 38.17094374, 46.0628407 , 37.7141993 , 38.49407864,\n",
      "       37.2214787 , 35.05844283, 38.5499897 , 40.54258013, 41.68682575,\n",
      "       41.16079736, 43.49545956, 48.63791156, 39.0413022 , 43.44220066,\n",
      "       38.39686894, 43.58445263, 34.19684601, 40.73244643, 35.14627314,\n",
      "       34.4381237 , 39.25635934, 45.47124314, 45.54508448, 38.53697729,\n",
      "       34.02753162, 36.0900774 , 38.59091902, 39.22471333, 35.30968189,\n",
      "       34.74377847, 36.38869929, 36.37464404, 34.47966146, 36.59297085,\n",
      "       33.73137164, 34.89933729, 40.83840942, 33.9842329 , 34.57358932]), 'score_time': array([0.18745756, 0.18745732, 0.23038459, 0.26129985, 0.20947552,\n",
      "       0.19547844, 0.21642065, 0.19647169, 0.20441866, 0.24733853,\n",
      "       0.2184248 , 0.26229596, 0.2463429 , 0.24032164, 0.21741629,\n",
      "       0.19149065, 0.1874578 , 0.18741822, 0.24174333, 0.1874578 ,\n",
      "       0.20307922, 0.24339938, 0.24994135, 0.1874578 , 0.19248581,\n",
      "       0.18650222, 0.25332236, 0.21142936, 0.18689871, 0.18745589,\n",
      "       0.2030766 , 0.21866536, 0.18745828, 0.23427939, 0.18745184,\n",
      "       0.18745971, 0.17187452, 0.20304036, 0.21869993, 0.18745661,\n",
      "       0.18250966, 0.18745375, 0.20304537, 0.18742037, 0.20303869,\n",
      "       0.21870279, 0.35206032, 0.249336  , 0.26556301, 0.18742013]), 'test_accuracy': array([1.        , 1.        , 0.99968414, 0.99968414, 1.        ,\n",
      "       1.        , 1.        , 1.        , 1.        , 1.        ,\n",
      "       0.99968414, 0.99968414, 1.        , 1.        , 1.        ,\n",
      "       1.        , 1.        , 1.        , 0.99968414, 1.        ,\n",
      "       0.99936829, 1.        , 1.        , 1.        , 0.99968414,\n",
      "       1.        , 1.        , 1.        , 1.        , 1.        ,\n",
      "       0.99968414, 1.        , 1.        , 1.        , 1.        ,\n",
      "       0.99968404, 0.99968404, 1.        , 1.        , 1.        ,\n",
      "       1.        , 1.        , 1.        , 1.        , 1.        ,\n",
      "       1.        , 0.99968384, 1.        , 1.        , 1.        ]), 'train_accuracy': array([0.99996132, 0.99996132, 0.99996776, 0.99996776, 0.99995487,\n",
      "       0.99996132, 0.99996132, 0.99996132, 0.99996132, 0.99996132,\n",
      "       0.99996132, 0.99993553, 0.99995487, 0.99996132, 0.99996132,\n",
      "       0.99996132, 0.99996132, 0.99996132, 0.99993553, 0.99996132,\n",
      "       0.99994197, 0.99996132, 0.99996776, 0.99996132, 0.99996776,\n",
      "       0.99996132, 0.99996776, 0.99996132, 0.99996776, 0.99996132,\n",
      "       0.99993553, 0.99995487, 0.99996132, 0.99996132, 0.99996132,\n",
      "       0.99996132, 0.99996132, 0.99996132, 0.99996132, 0.99996776,\n",
      "       0.99996132, 0.99996132, 0.99996132, 0.99996132, 0.99996132,\n",
      "       0.99996132, 0.99996776, 0.99996132, 0.99996132, 0.99996132]), 'test_f1_macro': array([1.        , 1.        , 0.99967353, 0.99967353, 1.        ,\n",
      "       1.        , 1.        , 1.        , 1.        , 1.        ,\n",
      "       0.99967353, 0.99967358, 1.        , 1.        , 1.        ,\n",
      "       1.        , 1.        , 1.        , 0.99967358, 1.        ,\n",
      "       0.9993472 , 1.        , 1.        , 1.        , 0.99967353,\n",
      "       1.        , 1.        , 1.        , 1.        , 1.        ,\n",
      "       0.99967358, 1.        , 1.        , 1.        , 1.        ,\n",
      "       0.99967334, 0.99967334, 1.        , 1.        , 1.        ,\n",
      "       1.        , 1.        , 1.        , 1.        , 1.        ,\n",
      "       1.        , 0.99967321, 1.        , 1.        , 1.        ]), 'train_f1_macro': array([0.99996002, 0.99996002, 0.99996668, 0.99996668, 0.99995335,\n",
      "       0.99996002, 0.99996002, 0.99996002, 0.99996002, 0.99996002,\n",
      "       0.99996002, 0.99993336, 0.99995335, 0.99996002, 0.99996002,\n",
      "       0.99996002, 0.99996002, 0.99996002, 0.99993336, 0.99996002,\n",
      "       0.99994002, 0.99996002, 0.99996668, 0.99996002, 0.99996668,\n",
      "       0.99996002, 0.99996668, 0.99996002, 0.99996668, 0.99996002,\n",
      "       0.99993336, 0.99995335, 0.99996002, 0.99996002, 0.99996002,\n",
      "       0.99996002, 0.99996002, 0.99996002, 0.99996002, 0.99996668,\n",
      "       0.99996002, 0.99996002, 0.99996002, 0.99996002, 0.99996002,\n",
      "       0.99996002, 0.99996668, 0.99996002, 0.99996002, 0.99996002])}\n"
     ]
    }
   ],
   "source": [
    "kNeighbors(x,y)"
   ]
  },
  {
   "cell_type": "code",
   "execution_count": 8,
   "metadata": {},
   "outputs": [],
   "source": [
    "def svc(X,Y):\n",
    "    model=SVC()\n",
    "    paramz ={'C':[3,7],'kernel':('linear', 'poly', 'rbf' )}\n",
    "    random_search=RandomizedSearchCV(estimator=model,param_distributions=paramz ,scoring=('accuracy')\n",
    "                                ,cv=3,return_train_score=True,iid=False)\n",
    "    RS_result = cross_validate(random_search, X, Y, cv=5, scoring=('accuracy','f1_macro'), return_train_score=True)\n",
    "    print(RS_result)\n",
    " "
   ]
  },
  {
   "cell_type": "code",
   "execution_count": null,
   "metadata": {},
   "outputs": [
    {
     "name": "stderr",
     "output_type": "stream",
     "text": [
      "C:\\Anaconda3\\lib\\site-packages\\sklearn\\model_selection\\_search.py:271: UserWarning: The total space of parameters 6 is smaller than n_iter=10. Running 6 iterations. For exhaustive searches, use GridSearchCV.\n",
      "  % (grid_size, self.n_iter, grid_size), UserWarning)\n"
     ]
    }
   ],
   "source": [
    "svc(x,y)"
   ]
  },
  {
   "cell_type": "code",
   "execution_count": 12,
   "metadata": {},
   "outputs": [],
   "source": [
    "def rTree(X,Y):\n",
    "    model=RandomForestClassifier()\n",
    "    paramz ={'n_estimators':[300]}\n",
    "    random_search=RandomizedSearchCV(estimator=model,param_distributions=paramz ,scoring=('accuracy')\n",
    "                                ,cv=3,return_train_score=True,iid=False)\n",
    "    RS_result = cross_validate(random_search, X, Y, cv=5, scoring=('accuracy','f1_macro'), return_train_score=True)\n",
    "    print(RS_result)"
   ]
  },
  {
   "cell_type": "code",
   "execution_count": 24,
   "metadata": {},
   "outputs": [],
   "source": [
    "def dTree(X,Y):\n",
    "    model=DecisionTreeClassifier()\n",
    "    paramz ={'criterion':('gini','entropy')}\n",
    "    grid_search = GridSearchCV(estimator = model, param_grid=paramz, scoring=('accuracy')\n",
    "                               , cv=3, return_train_score=True, iid=False)\n",
    "    GS_result=cross_validate(grid_search,X,Y,\n",
    "                                cv=5,scoring=('accuracy'\n",
    "                                              ,'f1_macro'),return_train_score=True)\n",
    "    random_search=RandomizedSearchCV(estimator=model,param_distributions=paramz ,scoring=('accuracy')\n",
    "                                ,cv=3,return_train_score=True,iid=False)\n",
    "    RS_result = cross_validate(random_search, X, Y, cv=5, scoring=('accuracy','f1_macro'), return_train_score=True)\n",
    "    print(GS_result)\n",
    "    print(\"/n//////////////////////\")\n",
    "    print(RS_result)"
   ]
  },
  {
   "cell_type": "code",
   "execution_count": null,
   "metadata": {},
   "outputs": [
    {
     "name": "stderr",
     "output_type": "stream",
     "text": [
      "C:\\Anaconda3\\lib\\site-packages\\sklearn\\model_selection\\_search.py:271: UserWarning: The total space of parameters 1 is smaller than n_iter=10. Running 1 iterations. For exhaustive searches, use GridSearchCV.\n",
      "  % (grid_size, self.n_iter, grid_size), UserWarning)\n"
     ]
    }
   ],
   "source": [
    "rTree(x,y)"
   ]
  },
  {
   "cell_type": "code",
   "execution_count": 25,
   "metadata": {},
   "outputs": [
    {
     "name": "stderr",
     "output_type": "stream",
     "text": [
      "C:\\Anaconda3\\lib\\site-packages\\sklearn\\model_selection\\_search.py:271: UserWarning: The total space of parameters 2 is smaller than n_iter=10. Running 2 iterations. For exhaustive searches, use GridSearchCV.\n",
      "  % (grid_size, self.n_iter, grid_size), UserWarning)\n",
      "C:\\Anaconda3\\lib\\site-packages\\sklearn\\model_selection\\_search.py:271: UserWarning: The total space of parameters 2 is smaller than n_iter=10. Running 2 iterations. For exhaustive searches, use GridSearchCV.\n",
      "  % (grid_size, self.n_iter, grid_size), UserWarning)\n",
      "C:\\Anaconda3\\lib\\site-packages\\sklearn\\model_selection\\_search.py:271: UserWarning: The total space of parameters 2 is smaller than n_iter=10. Running 2 iterations. For exhaustive searches, use GridSearchCV.\n",
      "  % (grid_size, self.n_iter, grid_size), UserWarning)\n",
      "C:\\Anaconda3\\lib\\site-packages\\sklearn\\model_selection\\_search.py:271: UserWarning: The total space of parameters 2 is smaller than n_iter=10. Running 2 iterations. For exhaustive searches, use GridSearchCV.\n",
      "  % (grid_size, self.n_iter, grid_size), UserWarning)\n",
      "C:\\Anaconda3\\lib\\site-packages\\sklearn\\model_selection\\_search.py:271: UserWarning: The total space of parameters 2 is smaller than n_iter=10. Running 2 iterations. For exhaustive searches, use GridSearchCV.\n",
      "  % (grid_size, self.n_iter, grid_size), UserWarning)\n"
     ]
    },
    {
     "name": "stdout",
     "output_type": "stream",
     "text": [
      "{'fit_time': array([3.58200765, 3.33664298, 3.33551526, 3.38911104, 3.34779334]), 'score_time': array([0.01418161, 0.01549792, 0.0133009 , 0.01479506, 0.0115788 ]), 'test_accuracy': array([0.9995449 , 0.9998483 , 0.99992415, 0.99992414, 0.99992414]), 'train_accuracy': array([1., 1., 1., 1., 1.]), 'test_f1_macro': array([0.99956781, 0.99985777, 0.99992889, 0.99992889, 0.99992332]), 'train_f1_macro': array([1., 1., 1., 1., 1.])}\n",
      "/n//////////////////////\n",
      "{'fit_time': array([3.43527412, 3.10933352, 3.39135551, 3.42955303, 3.55770254]), 'score_time': array([0.01446414, 0.01198649, 0.01328373, 0.01674891, 0.01503754]), 'test_accuracy': array([0.9995449 , 0.99946905, 0.99992415, 0.99992414, 0.99992414]), 'train_accuracy': array([1., 1., 1., 1., 1.]), 'test_f1_macro': array([0.99956781, 0.99948249, 0.99992889, 0.99992889, 0.99992332]), 'train_f1_macro': array([1., 1., 1., 1., 1.])}\n"
     ]
    }
   ],
   "source": [
    "dTree(x,y)"
   ]
  },
  {
   "cell_type": "code",
   "execution_count": null,
   "metadata": {},
   "outputs": [],
   "source": []
  }
 ],
 "metadata": {
  "kernelspec": {
   "display_name": "Python 3",
   "language": "python",
   "name": "python3"
  },
  "language_info": {
   "codemirror_mode": {
    "name": "ipython",
    "version": 3
   },
   "file_extension": ".py",
   "mimetype": "text/x-python",
   "name": "python",
   "nbconvert_exporter": "python",
   "pygments_lexer": "ipython3",
   "version": "3.7.1"
  }
 },
 "nbformat": 4,
 "nbformat_minor": 2
}
